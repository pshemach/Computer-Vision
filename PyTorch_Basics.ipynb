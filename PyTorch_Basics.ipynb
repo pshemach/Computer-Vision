{
  "nbformat": 4,
  "nbformat_minor": 0,
  "metadata": {
    "colab": {
      "provenance": [],
      "authorship_tag": "ABX9TyNRVcH9b3Xl4szR7t9s9xbx",
      "include_colab_link": true
    },
    "kernelspec": {
      "name": "python3",
      "display_name": "Python 3"
    },
    "language_info": {
      "name": "python"
    }
  },
  "cells": [
    {
      "cell_type": "markdown",
      "metadata": {
        "id": "view-in-github",
        "colab_type": "text"
      },
      "source": [
        "<a href=\"https://colab.research.google.com/github/pshemach/Computer-Vision/blob/main/PyTorch_Basics.ipynb\" target=\"_parent\"><img src=\"https://colab.research.google.com/assets/colab-badge.svg\" alt=\"Open In Colab\"/></a>"
      ]
    },
    {
      "cell_type": "code",
      "execution_count": 1,
      "metadata": {
        "id": "4senReoPTUos"
      },
      "outputs": [],
      "source": [
        "import torch"
      ]
    },
    {
      "cell_type": "code",
      "source": [
        "tensor1 = torch.tensor(8)\n",
        "tensor1"
      ],
      "metadata": {
        "colab": {
          "base_uri": "https://localhost:8080/"
        },
        "id": "5MlKn-9DTmXO",
        "outputId": "508ad121-c1c9-4f73-8dad-7ab0e21b2d12"
      },
      "execution_count": 2,
      "outputs": [
        {
          "output_type": "execute_result",
          "data": {
            "text/plain": [
              "tensor(8)"
            ]
          },
          "metadata": {},
          "execution_count": 2
        }
      ]
    },
    {
      "cell_type": "code",
      "source": [
        "tensor1.dtype"
      ],
      "metadata": {
        "colab": {
          "base_uri": "https://localhost:8080/"
        },
        "id": "_kGXoDp5T_TR",
        "outputId": "7c008ac9-808c-434e-8bcf-e7c61b839323"
      },
      "execution_count": 3,
      "outputs": [
        {
          "output_type": "execute_result",
          "data": {
            "text/plain": [
              "torch.int64"
            ]
          },
          "metadata": {},
          "execution_count": 3
        }
      ]
    },
    {
      "cell_type": "code",
      "source": [
        "tensor2 = torch.tensor([10,20,30,40])\n",
        "print(tensor2)\n",
        "print(tensor2.dtype)"
      ],
      "metadata": {
        "colab": {
          "base_uri": "https://localhost:8080/"
        },
        "id": "_6IWRKkCUDR4",
        "outputId": "1173fdc1-689e-44aa-fbca-dc5caa48ac0e"
      },
      "execution_count": 4,
      "outputs": [
        {
          "output_type": "stream",
          "name": "stdout",
          "text": [
            "tensor([10, 20, 30, 40])\n",
            "torch.int64\n"
          ]
        }
      ]
    },
    {
      "cell_type": "code",
      "source": [
        "tensor2 = torch.tensor([10,20.0,30,40])\n",
        "print(tensor2)\n",
        "print(tensor2.dtype)"
      ],
      "metadata": {
        "colab": {
          "base_uri": "https://localhost:8080/"
        },
        "id": "p80vU4zWUR6y",
        "outputId": "a42cd23b-8aea-47ce-dbcb-7885de740a83"
      },
      "execution_count": 5,
      "outputs": [
        {
          "output_type": "stream",
          "name": "stdout",
          "text": [
            "tensor([10., 20., 30., 40.])\n",
            "torch.float32\n"
          ]
        }
      ]
    },
    {
      "cell_type": "code",
      "source": [
        "tensor2d = torch.tensor([[12.0,2],[45,2],[3,2],[0,87]])\n",
        "print(tensor2d)\n",
        "print(tensor2d.dtype)"
      ],
      "metadata": {
        "colab": {
          "base_uri": "https://localhost:8080/"
        },
        "id": "TNdEdT54UdJj",
        "outputId": "943d82ae-701a-4feb-87a0-d5ba1880cc06"
      },
      "execution_count": 6,
      "outputs": [
        {
          "output_type": "stream",
          "name": "stdout",
          "text": [
            "tensor([[12.,  2.],\n",
            "        [45.,  2.],\n",
            "        [ 3.,  2.],\n",
            "        [ 0., 87.]])\n",
            "torch.float32\n"
          ]
        }
      ]
    },
    {
      "cell_type": "code",
      "source": [
        "tensor3d = torch.tensor([\n",
        "    [[1,2,3],[4,5,6]],\n",
        "    [[10,20,30],[40,50,60]]\n",
        "])\n",
        "\n",
        "print(tensor3d)\n",
        "print(tensor3d.dtype)"
      ],
      "metadata": {
        "colab": {
          "base_uri": "https://localhost:8080/"
        },
        "id": "fZlh7RXCUz4M",
        "outputId": "84d343bf-f310-4a6a-847b-f444f3d0387b"
      },
      "execution_count": 7,
      "outputs": [
        {
          "output_type": "stream",
          "name": "stdout",
          "text": [
            "tensor([[[ 1,  2,  3],\n",
            "         [ 4,  5,  6]],\n",
            "\n",
            "        [[10, 20, 30],\n",
            "         [40, 50, 60]]])\n",
            "torch.int64\n"
          ]
        }
      ]
    },
    {
      "cell_type": "code",
      "source": [
        "stream_list = ['netflix','hulu','prime video','hbo max']\n",
        "\n",
        "from sklearn import preprocessing\n",
        "stringEncoder = preprocessing.LabelEncoder()\n",
        "targets = stringEncoder.fit_transform(stream_list)\n",
        "tensorList = torch.as_tensor(targets)\n",
        "print(tensorList)\n",
        "print(tensorList.dtype)"
      ],
      "metadata": {
        "colab": {
          "base_uri": "https://localhost:8080/"
        },
        "id": "nchFnGJaVT1m",
        "outputId": "65324f70-55f2-4525-fa62-c9fd9c8446ed"
      },
      "execution_count": 8,
      "outputs": [
        {
          "output_type": "stream",
          "name": "stdout",
          "text": [
            "tensor([2, 1, 3, 0])\n",
            "torch.int64\n"
          ]
        }
      ]
    },
    {
      "cell_type": "code",
      "source": [
        "print(tensor1)\n",
        "print(f'Shape {tensor1.shape}\\n')\n",
        "print(tensor2)\n",
        "print(f'Shape {tensor2.shape}\\n')\n",
        "print(tensor2d)\n",
        "print(f'Shape {tensor2d.shape}\\n')\n",
        "print(tensor3d)\n",
        "print(f'Shape {tensor3d.shape}\\n')\n",
        "print(tensorList)\n",
        "print(f'Shape {tensorList.shape}\\n')"
      ],
      "metadata": {
        "colab": {
          "base_uri": "https://localhost:8080/"
        },
        "id": "HdtyvaAYFJDO",
        "outputId": "e3adc610-3786-40ee-b967-fa0bb99bfc37"
      },
      "execution_count": 12,
      "outputs": [
        {
          "output_type": "stream",
          "name": "stdout",
          "text": [
            "tensor(8)\n",
            "Shape torch.Size([])\n",
            "\n",
            "tensor([10., 20., 30., 40.])\n",
            "Shape torch.Size([4])\n",
            "\n",
            "tensor([[12.,  2.],\n",
            "        [45.,  2.],\n",
            "        [ 3.,  2.],\n",
            "        [ 0., 87.]])\n",
            "Shape torch.Size([4, 2])\n",
            "\n",
            "tensor([[[ 1,  2,  3],\n",
            "         [ 4,  5,  6]],\n",
            "\n",
            "        [[10, 20, 30],\n",
            "         [40, 50, 60]]])\n",
            "Shape torch.Size([2, 2, 3])\n",
            "\n",
            "tensor([2, 1, 3, 0])\n",
            "Shape torch.Size([4])\n",
            "\n"
          ]
        }
      ]
    },
    {
      "cell_type": "code",
      "source": [
        "#y = mx + c\n",
        "\n",
        "x = torch.tensor(5.)\n",
        "m = torch.tensor(10., requires_grad=True)\n",
        "c = torch.tensor(20., requires_grad=True)"
      ],
      "metadata": {
        "id": "7ALGJTldGGBa"
      },
      "execution_count": 13,
      "outputs": []
    },
    {
      "cell_type": "code",
      "source": [
        "y = m*x + c\n",
        "y"
      ],
      "metadata": {
        "colab": {
          "base_uri": "https://localhost:8080/"
        },
        "id": "god3jO_xIEay",
        "outputId": "99f39e1f-9b48-4424-bcc1-45b63c9b61a5"
      },
      "execution_count": 14,
      "outputs": [
        {
          "output_type": "execute_result",
          "data": {
            "text/plain": [
              "tensor(70., grad_fn=<AddBackward0>)"
            ]
          },
          "metadata": {},
          "execution_count": 14
        }
      ]
    },
    {
      "cell_type": "code",
      "source": [
        "y.backward()"
      ],
      "metadata": {
        "id": "U1nyvhzYIUpT"
      },
      "execution_count": 15,
      "outputs": []
    },
    {
      "cell_type": "code",
      "source": [
        "print(\"dy/dx\", x.grad)\n",
        "print(\"dy/dm\", m.grad)\n",
        "print(\"dy/dc\", c.grad)"
      ],
      "metadata": {
        "colab": {
          "base_uri": "https://localhost:8080/"
        },
        "id": "-pYqVqO9IZsk",
        "outputId": "203c47f3-e491-4629-dc22-98e477a3c468"
      },
      "execution_count": 16,
      "outputs": [
        {
          "output_type": "stream",
          "name": "stdout",
          "text": [
            "dy/dx None\n",
            "dy/dm tensor(5.)\n",
            "dy/dc tensor(1.)\n"
          ]
        }
      ]
    },
    {
      "cell_type": "code",
      "source": [
        "tensor1 = torch.full((3,2), 20)"
      ],
      "metadata": {
        "id": "GNMn7vwVItvM"
      },
      "execution_count": 17,
      "outputs": []
    },
    {
      "cell_type": "code",
      "source": [
        "tensor1"
      ],
      "metadata": {
        "colab": {
          "base_uri": "https://localhost:8080/"
        },
        "id": "QGkXWRQEJb1g",
        "outputId": "0a88838b-b042-4c8f-9f9d-b7cdfe427aaa"
      },
      "execution_count": 18,
      "outputs": [
        {
          "output_type": "execute_result",
          "data": {
            "text/plain": [
              "tensor([[20, 20],\n",
              "        [20, 20],\n",
              "        [20, 20]])"
            ]
          },
          "metadata": {},
          "execution_count": 18
        }
      ]
    },
    {
      "cell_type": "code",
      "source": [
        "tensor2 = torch.tensor([[20,32],[72,85],[78,30]])\n",
        "print(tensor2)"
      ],
      "metadata": {
        "colab": {
          "base_uri": "https://localhost:8080/"
        },
        "id": "JibM0uMIJdio",
        "outputId": "169e592f-2fb9-4323-82bc-c59629fd1569"
      },
      "execution_count": 19,
      "outputs": [
        {
          "output_type": "stream",
          "name": "stdout",
          "text": [
            "tensor([[20, 32],\n",
            "        [72, 85],\n",
            "        [78, 30]])\n"
          ]
        }
      ]
    },
    {
      "cell_type": "code",
      "source": [
        "#concatination\n",
        "\n",
        "tensorConcat = torch.cat((tensor1,tensor2))"
      ],
      "metadata": {
        "id": "MtnzuJyZJwTh"
      },
      "execution_count": 20,
      "outputs": []
    },
    {
      "cell_type": "code",
      "source": [
        "print(tensorConcat)"
      ],
      "metadata": {
        "colab": {
          "base_uri": "https://localhost:8080/"
        },
        "id": "fGthWQXwJ7pS",
        "outputId": "bb6fbc0b-387f-4b3e-d845-c6413e53eedc"
      },
      "execution_count": 21,
      "outputs": [
        {
          "output_type": "stream",
          "name": "stdout",
          "text": [
            "tensor([[20, 20],\n",
            "        [20, 20],\n",
            "        [20, 20],\n",
            "        [20, 32],\n",
            "        [72, 85],\n",
            "        [78, 30]])\n"
          ]
        }
      ]
    },
    {
      "cell_type": "code",
      "source": [],
      "metadata": {
        "id": "GXZUoxb2KBB6"
      },
      "execution_count": null,
      "outputs": []
    }
  ]
}